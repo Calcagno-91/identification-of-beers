{
 "cells": [
  {
   "cell_type": "markdown",
   "metadata": {},
   "source": [
    "# Category identification of beers\n",
    "\n",
    "#### Objective: build a beer classification model predicting if a beer is an \"American IPA\" or not based on its properties."
   ]
  },
  {
   "cell_type": "code",
   "execution_count": 1,
   "metadata": {},
   "outputs": [],
   "source": [
    "# import spark\n",
    "from pyspark import SparkContext\n",
    "# initialize a new Spark Context to use for the execution of the script\n",
    "sc = SparkContext(appName=\"MY-APP-NAME\", master=\"local[*]\")\n",
    "# prevent useless logging messages\n",
    "sc.setLogLevel(\"ERROR\")\n",
    "\n",
    "from pyspark.sql.session import SparkSession\n",
    "\n",
    "spark = SparkSession(sc)"
   ]
  },
  {
   "cell_type": "code",
   "execution_count": 2,
   "metadata": {},
   "outputs": [],
   "source": [
    "%matplotlib inline\n",
    "\n",
    "import matplotlib.pyplot as plt\n",
    "import numpy as np\n",
    "import pandas as pd\n",
    "import re\n",
    "import seaborn as sns\n",
    "from pyspark.mllib.classification import LogisticRegressionWithLBFGS\n",
    "from pyspark.mllib.feature import HashingTF, StandardScaler\n",
    "from pyspark.mllib.feature import LabeledPoint\n",
    "from pyspark.ml.classification import LogisticRegression \n",
    "from pyspark.mllib.stat import Statistics"
   ]
  },
  {
   "cell_type": "markdown",
   "metadata": {},
   "source": [
    "#### Data exploration and Manipulation Using Spark DataFrame"
   ]
  },
  {
   "cell_type": "code",
   "execution_count": 3,
   "metadata": {},
   "outputs": [],
   "source": [
    "recipe_df = spark.read.csv(path=\"recipeData.csv\", header=True)"
   ]
  },
  {
   "cell_type": "code",
   "execution_count": 4,
   "metadata": {},
   "outputs": [
    {
     "data": {
      "text/plain": [
       "[Row(BeerID='1', Name='Vanilla Cream Ale', URL='/homebrew/recipe/view/1633/vanilla-cream-ale', Style='Cream Ale', StyleID='45', Size(L)='21.77', OG='1.055', FG='1.013', ABV='5.48', IBU='17.65', Color='4.83', BoilSize='28.39', BoilTime='75', BoilGravity='1.038', Efficiency='70', MashThickness='N/A', SugarScale='Specific Gravity', BrewMethod='All Grain', PitchRate='N/A', PrimaryTemp='17.78', PrimingMethod='corn sugar', PrimingAmount='4.5 oz', UserId='116'),\n",
       " Row(BeerID='2', Name='Southern Tier Pumking clone', URL='/homebrew/recipe/view/16367/southern-tier-pumking-clone', Style='Holiday/Winter Special Spiced Beer', StyleID='85', Size(L)='20.82', OG='1.083', FG='1.021', ABV='8.16', IBU='60.65', Color='15.64', BoilSize='24.61', BoilTime='60', BoilGravity='1.07', Efficiency='70', MashThickness='N/A', SugarScale='Specific Gravity', BrewMethod='All Grain', PitchRate='N/A', PrimaryTemp='N/A', PrimingMethod='N/A', PrimingAmount='N/A', UserId='955')]"
      ]
     },
     "execution_count": 4,
     "metadata": {},
     "output_type": "execute_result"
    }
   ],
   "source": [
    "# Guardo i primi 5 record\n",
    "recipe_df.head(2)"
   ]
  },
  {
   "cell_type": "code",
   "execution_count": 6,
   "metadata": {},
   "outputs": [
    {
     "data": {
      "text/plain": [
       "['BeerID',\n",
       " 'Name',\n",
       " 'URL',\n",
       " 'Style',\n",
       " 'StyleID',\n",
       " 'Size(L)',\n",
       " 'OG',\n",
       " 'FG',\n",
       " 'ABV',\n",
       " 'IBU',\n",
       " 'Color',\n",
       " 'BoilSize',\n",
       " 'BoilTime',\n",
       " 'BoilGravity',\n",
       " 'Efficiency',\n",
       " 'MashThickness',\n",
       " 'SugarScale',\n",
       " 'BrewMethod',\n",
       " 'PitchRate',\n",
       " 'PrimaryTemp',\n",
       " 'PrimingMethod',\n",
       " 'PrimingAmount',\n",
       " 'UserId']"
      ]
     },
     "execution_count": 6,
     "metadata": {},
     "output_type": "execute_result"
    }
   ],
   "source": [
    "recipe_df.columns"
   ]
  },
  {
   "cell_type": "code",
   "execution_count": 7,
   "metadata": {},
   "outputs": [
    {
     "data": {
      "text/plain": [
       "73861"
      ]
     },
     "execution_count": 7,
     "metadata": {},
     "output_type": "execute_result"
    }
   ],
   "source": [
    "# Controllo il numero di record nell'rdd\n",
    "recipe_df.count()"
   ]
  },
  {
   "cell_type": "markdown",
   "metadata": {},
   "source": [
    "Analizziamo la presenza di missing value:"
   ]
  },
  {
   "cell_type": "code",
   "execution_count": 8,
   "metadata": {},
   "outputs": [
    {
     "name": "stdout",
     "output_type": "stream",
     "text": [
      "BeerID: 0\n",
      "Name: 1\n",
      "URL: 0\n",
      "Style: 596\n",
      "StyleID: 0\n",
      "Size(L): 0\n",
      "OG: 0\n",
      "FG: 0\n",
      "ABV: 0\n",
      "IBU: 0\n",
      "Color: 0\n",
      "BoilSize: 0\n",
      "BoilTime: 0\n",
      "BoilGravity: 2990\n",
      "Efficiency: 0\n",
      "MashThickness: 29864\n",
      "SugarScale: 0\n",
      "BrewMethod: 0\n",
      "PitchRate: 39252\n",
      "PrimaryTemp: 22662\n",
      "PrimingMethod: 67094\n",
      "PrimingAmount: 69084\n",
      "UserId: 0\n"
     ]
    }
   ],
   "source": [
    "for col in recipe_df.columns:\n",
    "    print(\"{}: {}\".format(col, recipe_df.filter(recipe_df[col] == 'N/A').count()))"
   ]
  },
  {
   "cell_type": "markdown",
   "metadata": {},
   "source": [
    "Eliminiamo le colonne PrimingMethod, PrimingAmount, PitchRate perché sono per lo più nulle. Eliminiamo anche Name, URL, UserId e Style (abbiamo il codice corrispondente nello StyleId) perché non sono utili per la nostra analisi."
   ]
  },
  {
   "cell_type": "code",
   "execution_count": 9,
   "metadata": {},
   "outputs": [],
   "source": [
    "recipe_df = recipe_df.drop('PitchRate', 'Name', 'URL', 'UserId', 'Style', 'PrimingMethod', 'PrimingAmount')"
   ]
  },
  {
   "cell_type": "code",
   "execution_count": 10,
   "metadata": {},
   "outputs": [
    {
     "data": {
      "text/plain": [
       "[Row(BeerID='1', StyleID='45', Size(L)='21.77', OG='1.055', FG='1.013', ABV='5.48', IBU='17.65', Color='4.83', BoilSize='28.39', BoilTime='75', BoilGravity='1.038', Efficiency='70', MashThickness='N/A', SugarScale='Specific Gravity', BrewMethod='All Grain', PrimaryTemp='17.78'),\n",
       " Row(BeerID='2', StyleID='85', Size(L)='20.82', OG='1.083', FG='1.021', ABV='8.16', IBU='60.65', Color='15.64', BoilSize='24.61', BoilTime='60', BoilGravity='1.07', Efficiency='70', MashThickness='N/A', SugarScale='Specific Gravity', BrewMethod='All Grain', PrimaryTemp='N/A')]"
      ]
     },
     "execution_count": 10,
     "metadata": {},
     "output_type": "execute_result"
    }
   ],
   "source": [
    "recipe_df.take(2)"
   ]
  },
  {
   "cell_type": "markdown",
   "metadata": {},
   "source": [
    "Analizziamo la correlazione tra le variabili continue; creiamo prima un nuovo rdd con le variabili continue da cui filtro i valori N/A."
   ]
  },
  {
   "cell_type": "code",
   "execution_count": 11,
   "metadata": {},
   "outputs": [],
   "source": [
    "continuos_df = recipe_df.drop('SugarScale', 'BrewMethod').filter(recipe_df['BoilGravity'] != 'N/A').filter(recipe_df['MashThickness'] != 'N/A').filter(recipe_df['PrimaryTemp'] != 'N/A')\n",
    "\n",
    "correlation_matrix = Statistics.corr(continuos_df.rdd.map(list), method=\"pearson\")"
   ]
  },
  {
   "cell_type": "code",
   "execution_count": 12,
   "metadata": {},
   "outputs": [
    {
     "data": {
      "image/png": "[encoded data removed]",
      "text/plain": [
       "<Figure size 720x504 with 2 Axes>"
      ]
     },
     "metadata": {
      "needs_background": "light"
     },
     "output_type": "display_data"
    }
   ],
   "source": [
    "plt.figure(figsize=(10,7))\n",
    "ax = sns.heatmap(correlation_matrix, linewidth=0.5, annot=True, cmap='PiYG', xticklabels=continuos_df.columns, yticklabels=continuos_df.columns)\n",
    "plt.show()"
   ]
  },
  {
   "cell_type": "markdown",
   "metadata": {},
   "source": [
    "C'è un forte correlazione tra Size e BoilSize, BoilGravity e OG (e FG), quindi rimuoviamo BoilSize, BoilGravity e FG"
   ]
  },
  {
   "cell_type": "code",
   "execution_count": 13,
   "metadata": {},
   "outputs": [],
   "source": [
    "recipe_df = recipe_df.drop('BoilSize', 'BoilGravity', 'FG')"
   ]
  },
  {
   "cell_type": "markdown",
   "metadata": {},
   "source": [
    "Ora vogliamo fillare i missing value per MashThickness e PrimaryTemp."
   ]
  },
  {
   "cell_type": "code",
   "execution_count": 14,
   "metadata": {},
   "outputs": [
    {
     "name": "stdout",
     "output_type": "stream",
     "text": [
      "+-------+------------------+------------------+\n",
      "|summary|     MashThickness|       PrimaryTemp|\n",
      "+-------+------------------+------------------+\n",
      "|  count|             73861|             73861|\n",
      "|   mean|2.1272352339932374|19.175640539853926|\n",
      "| stddev| 1.682347279063247| 4.219675604693554|\n",
      "|    min|                 0|             -0.56|\n",
      "|    max|               N/A|               N/A|\n",
      "+-------+------------------+------------------+\n",
      "\n"
     ]
    }
   ],
   "source": [
    "recipe_df.describe('MashThickness', 'PrimaryTemp').show()"
   ]
  },
  {
   "cell_type": "code",
   "execution_count": 15,
   "metadata": {},
   "outputs": [],
   "source": [
    "recipe_rdd = recipe_df.rdd.map(list)"
   ]
  },
  {
   "cell_type": "code",
   "execution_count": 16,
   "metadata": {},
   "outputs": [],
   "source": [
    "MashThickness_rdd = recipe_rdd.filter(lambda x: x[9] != 'N/A').map(lambda x: float(x[9]))"
   ]
  },
  {
   "cell_type": "code",
   "execution_count": 17,
   "metadata": {},
   "outputs": [],
   "source": [
    "mash_array = MashThickness_rdd.collect()"
   ]
  },
  {
   "cell_type": "code",
   "execution_count": 18,
   "metadata": {},
   "outputs": [
    {
     "name": "stdout",
     "output_type": "stream",
     "text": [
      "mean:  2.127235233993227\n",
      "median:  1.5\n",
      "min:  0.0\n",
      "max:  100.0\n",
      "var:  2.830228038158904\n",
      "std:  1.6823281600683333\n",
      "mode:  [1.5]\n"
     ]
    }
   ],
   "source": [
    "from scipy import stats\n",
    "\n",
    "print(\"mean: \", np.mean(mash_array))\n",
    "print(\"median: \", np.median(mash_array))\n",
    "print(\"min: \", np.min(mash_array))\n",
    "print(\"max: \", np.max(mash_array))\n",
    "print(\"var: \", np.var(mash_array))\n",
    "print(\"std: \", np.std(mash_array))\n",
    "print(\"mode: \", stats.mode(mash_array)[0])"
   ]
  },
  {
   "cell_type": "code",
   "execution_count": 19,
   "metadata": {},
   "outputs": [],
   "source": [
    "PrimaryTemp_rdd = recipe_rdd.filter(lambda x: x[12] != 'N/A').map(lambda x: float(x[12]))"
   ]
  },
  {
   "cell_type": "code",
   "execution_count": 20,
   "metadata": {},
   "outputs": [],
   "source": [
    "prim_array = PrimaryTemp_rdd.collect()"
   ]
  },
  {
   "cell_type": "code",
   "execution_count": 21,
   "metadata": {},
   "outputs": [
    {
     "name": "stdout",
     "output_type": "stream",
     "text": [
      "mean:  19.175640539854292\n",
      "median:  20.0\n",
      "min:  -17.78\n",
      "max:  114.0\n",
      "var:  17.805314435213493\n",
      "std:  4.219634395917908\n",
      "mode:  [20.]\n"
     ]
    }
   ],
   "source": [
    "print(\"mean: \", np.mean(prim_array))\n",
    "print(\"median: \", np.median(prim_array))\n",
    "print(\"min: \", np.min(prim_array))\n",
    "print(\"max: \", np.max(prim_array))\n",
    "print(\"var: \", np.var(prim_array))\n",
    "print(\"std: \", np.std(prim_array))\n",
    "print(\"mode: \", stats.mode(prim_array)[0])"
   ]
  },
  {
   "cell_type": "markdown",
   "metadata": {},
   "source": [
    "Fillo i valori di MashThickness e PrimaryTemp mancanti con la mediana che coincide con la moda. "
   ]
  },
  {
   "cell_type": "code",
   "execution_count": 22,
   "metadata": {},
   "outputs": [],
   "source": [
    "recipe_rdd = recipe_rdd.map(lambda x: x if x[9] != 'N/A' else x[:9] + [str(np.median(mash_array))] + x[10:])"
   ]
  },
  {
   "cell_type": "code",
   "execution_count": 23,
   "metadata": {},
   "outputs": [],
   "source": [
    "recipe_rdd = recipe_rdd.map(lambda x: x if x[12] != 'N/A' else x[:12] + [str(np.median(prim_array))])"
   ]
  },
  {
   "cell_type": "markdown",
   "metadata": {},
   "source": [
    "Ricreo lo spark dataframe"
   ]
  },
  {
   "cell_type": "code",
   "execution_count": 24,
   "metadata": {},
   "outputs": [],
   "source": [
    "recipe_df1 = spark.createDataFrame(recipe_rdd, schema=recipe_df.columns)"
   ]
  },
  {
   "cell_type": "code",
   "execution_count": 25,
   "metadata": {},
   "outputs": [
    {
     "data": {
      "text/plain": [
       "[Row(BeerID='1', StyleID='45', Size(L)='21.77', OG='1.055', ABV='5.48', IBU='17.65', Color='4.83', BoilTime='75', Efficiency='70', MashThickness='1.5', SugarScale='Specific Gravity', BrewMethod='All Grain', PrimaryTemp='17.78'),\n",
       " Row(BeerID='2', StyleID='85', Size(L)='20.82', OG='1.083', ABV='8.16', IBU='60.65', Color='15.64', BoilTime='60', Efficiency='70', MashThickness='1.5', SugarScale='Specific Gravity', BrewMethod='All Grain', PrimaryTemp='20.0'),\n",
       " Row(BeerID='3', StyleID='7', Size(L)='18.93', OG='1.063', ABV='5.91', IBU='59.25', Color='8.98', BoilTime='60', Efficiency='70', MashThickness='1.5', SugarScale='Specific Gravity', BrewMethod='extract', PrimaryTemp='20.0'),\n",
       " Row(BeerID='4', StyleID='7', Size(L)='22.71', OG='1.061', ABV='5.8', IBU='54.48', Color='8.5', BoilTime='60', Efficiency='70', MashThickness='1.5', SugarScale='Specific Gravity', BrewMethod='All Grain', PrimaryTemp='20.0'),\n",
       " Row(BeerID='5', StyleID='20', Size(L)='50', OG='1.06', ABV='6.48', IBU='17.84', Color='4.57', BoilTime='90', Efficiency='72', MashThickness='1.5', SugarScale='Specific Gravity', BrewMethod='All Grain', PrimaryTemp='19')]"
      ]
     },
     "execution_count": 25,
     "metadata": {},
     "output_type": "execute_result"
    }
   ],
   "source": [
    "recipe_df1.take(5)"
   ]
  },
  {
   "cell_type": "markdown",
   "metadata": {},
   "source": [
    "Voglio trasformare le variabili categoriche SugarScale e BrewMethon in numeriche."
   ]
  },
  {
   "cell_type": "code",
   "execution_count": 26,
   "metadata": {},
   "outputs": [
    {
     "name": "stdout",
     "output_type": "stream",
     "text": [
      "+----------------+-----+\n",
      "|      SugarScale|count|\n",
      "+----------------+-----+\n",
      "|           Plato| 1902|\n",
      "|Specific Gravity|71959|\n",
      "+----------------+-----+\n",
      "\n"
     ]
    }
   ],
   "source": [
    "recipe_df1.groupBy(\"SugarScale\").count().show()"
   ]
  },
  {
   "cell_type": "code",
   "execution_count": 27,
   "metadata": {},
   "outputs": [
    {
     "name": "stdout",
     "output_type": "stream",
     "text": [
      "+------------+-----+\n",
      "|  BrewMethod|count|\n",
      "+------------+-----+\n",
      "|     extract| 8626|\n",
      "|Partial Mash| 3527|\n",
      "|   All Grain|49692|\n",
      "|        BIAB|12016|\n",
      "+------------+-----+\n",
      "\n"
     ]
    }
   ],
   "source": [
    "recipe_df1.groupBy(\"BrewMethod\").count().show()"
   ]
  },
  {
   "cell_type": "code",
   "execution_count": 28,
   "metadata": {},
   "outputs": [],
   "source": [
    "from pyspark.ml.feature import StringIndexer\n",
    "from pyspark.ml.feature import OneHotEncoder"
   ]
  },
  {
   "cell_type": "code",
   "execution_count": 29,
   "metadata": {},
   "outputs": [
    {
     "name": "stdout",
     "output_type": "stream",
     "text": [
      "+------+-------+-------+-----+----+-----+-----+--------+----------+-------------+----------------+----------+-----------+---------------+\n",
      "|BeerID|StyleID|Size(L)|   OG| ABV|  IBU|Color|BoilTime|Efficiency|MashThickness|      SugarScale|BrewMethod|PrimaryTemp|SugarScaleIndex|\n",
      "+------+-------+-------+-----+----+-----+-----+--------+----------+-------------+----------------+----------+-----------+---------------+\n",
      "|     1|     45|  21.77|1.055|5.48|17.65| 4.83|      75|        70|          1.5|Specific Gravity| All Grain|      17.78|            0.0|\n",
      "|     2|     85|  20.82|1.083|8.16|60.65|15.64|      60|        70|          1.5|Specific Gravity| All Grain|       20.0|            0.0|\n",
      "|     3|      7|  18.93|1.063|5.91|59.25| 8.98|      60|        70|          1.5|Specific Gravity|   extract|       20.0|            0.0|\n",
      "|     4|      7|  22.71|1.061| 5.8|54.48|  8.5|      60|        70|          1.5|Specific Gravity| All Grain|       20.0|            0.0|\n",
      "|     5|     20|     50| 1.06|6.48|17.84| 4.57|      90|        72|          1.5|Specific Gravity| All Grain|         19|            0.0|\n",
      "+------+-------+-------+-----+----+-----+-----+--------+----------+-------------+----------------+----------+-----------+---------------+\n",
      "only showing top 5 rows\n",
      "\n"
     ]
    }
   ],
   "source": [
    "indexer = StringIndexer(inputCol=\"SugarScale\", outputCol=\"SugarScaleIndex\")\n",
    "recipe_df1 = indexer.fit(recipe_df1).transform(recipe_df1)\n",
    "recipe_df1.show(5)"
   ]
  },
  {
   "cell_type": "code",
   "execution_count": 30,
   "metadata": {},
   "outputs": [
    {
     "name": "stdout",
     "output_type": "stream",
     "text": [
      "+------+-------+-------+-----+----+-----+-----+--------+----------+-------------+----------------+----------+-----------+---------------+---------------+----------------+\n",
      "|BeerID|StyleID|Size(L)|   OG| ABV|  IBU|Color|BoilTime|Efficiency|MashThickness|      SugarScale|BrewMethod|PrimaryTemp|SugarScaleIndex|BrewMethodIndex|BrewMethodVector|\n",
      "+------+-------+-------+-----+----+-----+-----+--------+----------+-------------+----------------+----------+-----------+---------------+---------------+----------------+\n",
      "|     1|     45|  21.77|1.055|5.48|17.65| 4.83|      75|        70|          1.5|Specific Gravity| All Grain|      17.78|            0.0|            0.0|   (3,[0],[1.0])|\n",
      "|     2|     85|  20.82|1.083|8.16|60.65|15.64|      60|        70|          1.5|Specific Gravity| All Grain|       20.0|            0.0|            0.0|   (3,[0],[1.0])|\n",
      "|     3|      7|  18.93|1.063|5.91|59.25| 8.98|      60|        70|          1.5|Specific Gravity|   extract|       20.0|            0.0|            2.0|   (3,[2],[1.0])|\n",
      "|     4|      7|  22.71|1.061| 5.8|54.48|  8.5|      60|        70|          1.5|Specific Gravity| All Grain|       20.0|            0.0|            0.0|   (3,[0],[1.0])|\n",
      "|     5|     20|     50| 1.06|6.48|17.84| 4.57|      90|        72|          1.5|Specific Gravity| All Grain|         19|            0.0|            0.0|   (3,[0],[1.0])|\n",
      "+------+-------+-------+-----+----+-----+-----+--------+----------+-------------+----------------+----------+-----------+---------------+---------------+----------------+\n",
      "only showing top 5 rows\n",
      "\n"
     ]
    }
   ],
   "source": [
    "indexer = StringIndexer(inputCol=\"BrewMethod\", outputCol=\"BrewMethodIndex\")\n",
    "recipe_df1 = indexer.fit(recipe_df1).transform(recipe_df1)\n",
    "\n",
    "encoder = OneHotEncoder(inputCol=\"BrewMethodIndex\", outputCol=\"BrewMethodVector\")\n",
    "recipe_df1 = encoder.transform(recipe_df1)\n",
    "recipe_df1.show(5)"
   ]
  },
  {
   "cell_type": "code",
   "execution_count": 31,
   "metadata": {},
   "outputs": [],
   "source": [
    "recipe_df1 = recipe_df1.drop('BrewMethod', 'SugarScale', 'BrewMethodIndex')"
   ]
  },
  {
   "cell_type": "code",
   "execution_count": 32,
   "metadata": {},
   "outputs": [
    {
     "data": {
      "text/plain": [
       "[Row(BeerID='1', StyleID='45', Size(L)='21.77', OG='1.055', ABV='5.48', IBU='17.65', Color='4.83', BoilTime='75', Efficiency='70', MashThickness='1.5', PrimaryTemp='17.78', SugarScaleIndex=0.0, BrewMethodVector=SparseVector(3, {0: 1.0})),\n",
       " Row(BeerID='2', StyleID='85', Size(L)='20.82', OG='1.083', ABV='8.16', IBU='60.65', Color='15.64', BoilTime='60', Efficiency='70', MashThickness='1.5', PrimaryTemp='20.0', SugarScaleIndex=0.0, BrewMethodVector=SparseVector(3, {0: 1.0}))]"
      ]
     },
     "execution_count": 32,
     "metadata": {},
     "output_type": "execute_result"
    }
   ],
   "source": [
    "recipe_df1.take(2)"
   ]
  },
  {
   "cell_type": "markdown",
   "metadata": {},
   "source": [
    "Aggiungiamo la colonna target da predirre isIPA: guardiamo lo style \"American IPA\" a che style id corrisponde nel file che contiene il mapping tra l'id numerico e il nome."
   ]
  },
  {
   "cell_type": "code",
   "execution_count": 33,
   "metadata": {},
   "outputs": [],
   "source": [
    "style_rdd = sc.textFile(\"styleData.csv\")"
   ]
  },
  {
   "cell_type": "code",
   "execution_count": 34,
   "metadata": {},
   "outputs": [],
   "source": [
    "style_rdd = style_rdd.map(lambda x: x.split(','))"
   ]
  },
  {
   "cell_type": "code",
   "execution_count": 35,
   "metadata": {},
   "outputs": [],
   "source": [
    "style_rdd = style_rdd.keyBy(lambda x: x[0])"
   ]
  },
  {
   "cell_type": "code",
   "execution_count": 36,
   "metadata": {},
   "outputs": [
    {
     "data": {
      "text/plain": [
       "[('Style', ['Style', 'StyleID']),\n",
       " ('Altbier', ['Altbier', '1']),\n",
       " ('Alternative Grain Beer', ['Alternative Grain Beer', '2']),\n",
       " ('Alternative Sugar Beer', ['Alternative Sugar Beer', '3']),\n",
       " ('American Amber Ale', ['American Amber Ale', '4'])]"
      ]
     },
     "execution_count": 36,
     "metadata": {},
     "output_type": "execute_result"
    }
   ],
   "source": [
    "style_rdd.take(5)"
   ]
  },
  {
   "cell_type": "code",
   "execution_count": 37,
   "metadata": {},
   "outputs": [
    {
     "data": {
      "text/plain": [
       "[['American IPA', '7']]"
      ]
     },
     "execution_count": 37,
     "metadata": {},
     "output_type": "execute_result"
    }
   ],
   "source": [
    "style_rdd.lookup('American IPA')"
   ]
  },
  {
   "cell_type": "markdown",
   "metadata": {},
   "source": [
    "Quindi lo StyleID che mi interessa è il 7"
   ]
  },
  {
   "cell_type": "code",
   "execution_count": 38,
   "metadata": {},
   "outputs": [],
   "source": [
    "recipe_df1 = recipe_df1.withColumn('IsIPA', recipe_df1.StyleID=='7')\n",
    "recipe_df1 = recipe_df1.drop('StyleID')"
   ]
  },
  {
   "cell_type": "code",
   "execution_count": 39,
   "metadata": {},
   "outputs": [],
   "source": [
    "recipe_df1 = recipe_df1.select('IsIPA','*')"
   ]
  },
  {
   "cell_type": "code",
   "execution_count": 40,
   "metadata": {},
   "outputs": [
    {
     "data": {
      "text/plain": [
       "[Row(IsIPA=False, BeerID='1', Size(L)='21.77', OG='1.055', ABV='5.48', IBU='17.65', Color='4.83', BoilTime='75', Efficiency='70', MashThickness='1.5', PrimaryTemp='17.78', SugarScaleIndex=0.0, BrewMethodVector=SparseVector(3, {0: 1.0}), IsIPA=False),\n",
       " Row(IsIPA=False, BeerID='2', Size(L)='20.82', OG='1.083', ABV='8.16', IBU='60.65', Color='15.64', BoilTime='60', Efficiency='70', MashThickness='1.5', PrimaryTemp='20.0', SugarScaleIndex=0.0, BrewMethodVector=SparseVector(3, {0: 1.0}), IsIPA=False),\n",
       " Row(IsIPA=True, BeerID='3', Size(L)='18.93', OG='1.063', ABV='5.91', IBU='59.25', Color='8.98', BoilTime='60', Efficiency='70', MashThickness='1.5', PrimaryTemp='20.0', SugarScaleIndex=0.0, BrewMethodVector=SparseVector(3, {2: 1.0}), IsIPA=True),\n",
       " Row(IsIPA=True, BeerID='4', Size(L)='22.71', OG='1.061', ABV='5.8', IBU='54.48', Color='8.5', BoilTime='60', Efficiency='70', MashThickness='1.5', PrimaryTemp='20.0', SugarScaleIndex=0.0, BrewMethodVector=SparseVector(3, {0: 1.0}), IsIPA=True),\n",
       " Row(IsIPA=False, BeerID='5', Size(L)='50', OG='1.06', ABV='6.48', IBU='17.84', Color='4.57', BoilTime='90', Efficiency='72', MashThickness='1.5', PrimaryTemp='19', SugarScaleIndex=0.0, BrewMethodVector=SparseVector(3, {0: 1.0}), IsIPA=False)]"
      ]
     },
     "execution_count": 40,
     "metadata": {},
     "output_type": "execute_result"
    }
   ],
   "source": [
    "recipe_df1.take(5)"
   ]
  },
  {
   "cell_type": "markdown",
   "metadata": {},
   "source": [
    "Ora creiamo il nostro rdd e labeled point per lavorare con gli algorimti di classificazione di MLLib"
   ]
  },
  {
   "cell_type": "code",
   "execution_count": 48,
   "metadata": {},
   "outputs": [],
   "source": [
    "# Rimuoviamo l'id che non serve\n",
    "recipe_df1 = recipe_df1.drop('BeerID')"
   ]
  },
  {
   "cell_type": "code",
   "execution_count": 49,
   "metadata": {},
   "outputs": [],
   "source": [
    "#spark_df = spark.createDataFrame(df.drop(['StyleID','SugarScale', 'BrewMethod'], axis=1).astype(str))\n",
    "data_rdd = recipe_df1.rdd"
   ]
  },
  {
   "cell_type": "code",
   "execution_count": 50,
   "metadata": {},
   "outputs": [
    {
     "data": {
      "text/plain": [
       "[Row(IsIPA=False, Size(L)='21.77', OG='1.055', ABV='5.48', IBU='17.65', Color='4.83', BoilTime='75', Efficiency='70', MashThickness='1.5', PrimaryTemp='17.78', SugarScaleIndex=0.0, BrewMethodVector=SparseVector(3, {0: 1.0}), IsIPA=False),\n",
       " Row(IsIPA=False, Size(L)='20.82', OG='1.083', ABV='8.16', IBU='60.65', Color='15.64', BoilTime='60', Efficiency='70', MashThickness='1.5', PrimaryTemp='20.0', SugarScaleIndex=0.0, BrewMethodVector=SparseVector(3, {0: 1.0}), IsIPA=False),\n",
       " Row(IsIPA=True, Size(L)='18.93', OG='1.063', ABV='5.91', IBU='59.25', Color='8.98', BoilTime='60', Efficiency='70', MashThickness='1.5', PrimaryTemp='20.0', SugarScaleIndex=0.0, BrewMethodVector=SparseVector(3, {2: 1.0}), IsIPA=True),\n",
       " Row(IsIPA=True, Size(L)='22.71', OG='1.061', ABV='5.8', IBU='54.48', Color='8.5', BoilTime='60', Efficiency='70', MashThickness='1.5', PrimaryTemp='20.0', SugarScaleIndex=0.0, BrewMethodVector=SparseVector(3, {0: 1.0}), IsIPA=True),\n",
       " Row(IsIPA=False, Size(L)='50', OG='1.06', ABV='6.48', IBU='17.84', Color='4.57', BoilTime='90', Efficiency='72', MashThickness='1.5', PrimaryTemp='19', SugarScaleIndex=0.0, BrewMethodVector=SparseVector(3, {0: 1.0}), IsIPA=False)]"
      ]
     },
     "execution_count": 50,
     "metadata": {},
     "output_type": "execute_result"
    }
   ],
   "source": [
    "data_rdd.take(5)"
   ]
  },
  {
   "cell_type": "markdown",
   "metadata": {},
   "source": [
    "Converto lo sparse vector "
   ]
  },
  {
   "cell_type": "code",
   "execution_count": 51,
   "metadata": {},
   "outputs": [],
   "source": [
    "data_rdd = data_rdd.map(lambda x: list(x[:-2]) + list(x['BrewMethodVector'].toArray()))"
   ]
  },
  {
   "cell_type": "code",
   "execution_count": 52,
   "metadata": {},
   "outputs": [
    {
     "data": {
      "text/plain": [
       "[[False,\n",
       "  '21.77',\n",
       "  '1.055',\n",
       "  '5.48',\n",
       "  '17.65',\n",
       "  '4.83',\n",
       "  '75',\n",
       "  '70',\n",
       "  '1.5',\n",
       "  '17.78',\n",
       "  0.0,\n",
       "  1.0,\n",
       "  0.0,\n",
       "  0.0],\n",
       " [False,\n",
       "  '20.82',\n",
       "  '1.083',\n",
       "  '8.16',\n",
       "  '60.65',\n",
       "  '15.64',\n",
       "  '60',\n",
       "  '70',\n",
       "  '1.5',\n",
       "  '20.0',\n",
       "  0.0,\n",
       "  1.0,\n",
       "  0.0,\n",
       "  0.0]]"
      ]
     },
     "execution_count": 52,
     "metadata": {},
     "output_type": "execute_result"
    }
   ],
   "source": [
    "data_rdd.take(2)"
   ]
  },
  {
   "cell_type": "markdown",
   "metadata": {},
   "source": [
    "Visualizziamo la densità delle variabili continue per le due classi"
   ]
  },
  {
   "cell_type": "code",
   "execution_count": 407,
   "metadata": {},
   "outputs": [
    {
     "data": {
      "image/png": "[encoded data removed]",
      "text/plain": [
       "<Figure size 432x288 with 1 Axes>"
      ]
     },
     "metadata": {
      "needs_background": "light"
     },
     "output_type": "display_data"
    }
   ],
   "source": [
    "sns.kdeplot(data_rdd.filter(lambda x: x[0] == True).map(lambda x: x[2]).collect(), shade=True)\n",
    "sns.kdeplot(data_rdd.filter(lambda x: x[0] == False).map(lambda x: x[2]).collect(), shade=True)\n",
    "plt.title('Size(L) Density Plot by IPA Class')\n",
    "plt.xlabel('Size(L)')\n",
    "plt.ylabel('Density')\n",
    "plt.xlim(-110,500)\n",
    "plt.show()"
   ]
  },
  {
   "cell_type": "code",
   "execution_count": 408,
   "metadata": {},
   "outputs": [
    {
     "data": {
      "image/png": "[encoded data removed]",
      "text/plain": [
       "<Figure size 432x288 with 1 Axes>"
      ]
     },
     "metadata": {
      "needs_background": "light"
     },
     "output_type": "display_data"
    }
   ],
   "source": [
    "sns.kdeplot(data_rdd.filter(lambda x: x[0] == True).map(lambda x: x[3]).collect(), shade=True)\n",
    "sns.kdeplot(data_rdd.filter(lambda x: x[0] == False).map(lambda x: x[3]).collect(), shade=True)\n",
    "plt.title('OG Density Plot by IPA Class')\n",
    "plt.xlabel('OG')\n",
    "plt.ylabel('Density')\n",
    "plt.xlim(-1,10)\n",
    "plt.show()"
   ]
  },
  {
   "cell_type": "code",
   "execution_count": 409,
   "metadata": {},
   "outputs": [
    {
     "data": {
      "image/png": "[encoded data removed]",
      "text/plain": [
       "<Figure size 432x288 with 1 Axes>"
      ]
     },
     "metadata": {
      "needs_background": "light"
     },
     "output_type": "display_data"
    }
   ],
   "source": [
    "sns.kdeplot(data_rdd.filter(lambda x: x[0] == True).map(lambda x: x[4]).collect(), shade=True)\n",
    "sns.kdeplot(data_rdd.filter(lambda x: x[0] == False).map(lambda x: x[4]).collect(), shade=True)\n",
    "plt.title('ABV Density Plot by IPA Class')\n",
    "plt.xlabel('ABV')\n",
    "plt.ylabel('Density')\n",
    "plt.xlim(-20,100)\n",
    "plt.show()"
   ]
  },
  {
   "cell_type": "code",
   "execution_count": 410,
   "metadata": {},
   "outputs": [
    {
     "data": {
      "image/png": "[encoded data removed]",
      "text/plain": [
       "<Figure size 432x288 with 1 Axes>"
      ]
     },
     "metadata": {
      "needs_background": "light"
     },
     "output_type": "display_data"
    }
   ],
   "source": [
    "sns.kdeplot(data_rdd.filter(lambda x: x[0] == True).map(lambda x: x[5]).collect(), shade=True)\n",
    "sns.kdeplot(data_rdd.filter(lambda x: x[0] == False).map(lambda x: x[5]).collect(), shade=True)\n",
    "plt.title('Size(L) Density Plot by IPA Class')\n",
    "plt.xlabel('Size(L)')\n",
    "plt.ylabel('Density')\n",
    "plt.xlim(-110,500)\n",
    "plt.show()"
   ]
  },
  {
   "cell_type": "code",
   "execution_count": 53,
   "metadata": {},
   "outputs": [],
   "source": [
    "data_rdd = data_rdd.map(lambda x: LabeledPoint(x[0], x[1:]))"
   ]
  },
  {
   "cell_type": "code",
   "execution_count": 54,
   "metadata": {},
   "outputs": [
    {
     "data": {
      "text/plain": [
       "[LabeledPoint(0.0, [21.77,1.055,5.48,17.65,4.83,75.0,70.0,1.5,17.78,0.0,1.0,0.0,0.0]),\n",
       " LabeledPoint(0.0, [20.82,1.083,8.16,60.65,15.64,60.0,70.0,1.5,20.0,0.0,1.0,0.0,0.0]),\n",
       " LabeledPoint(1.0, [18.93,1.063,5.91,59.25,8.98,60.0,70.0,1.5,20.0,0.0,0.0,0.0,1.0]),\n",
       " LabeledPoint(1.0, [22.71,1.061,5.8,54.48,8.5,60.0,70.0,1.5,20.0,0.0,1.0,0.0,0.0]),\n",
       " LabeledPoint(0.0, [50.0,1.06,6.48,17.84,4.57,90.0,72.0,1.5,19.0,0.0,1.0,0.0,0.0])]"
      ]
     },
     "execution_count": 54,
     "metadata": {},
     "output_type": "execute_result"
    }
   ],
   "source": [
    "data_rdd.take(5)"
   ]
  },
  {
   "cell_type": "markdown",
   "metadata": {},
   "source": [
    "Ora splittiamo in test e train set e analizziamo la distribuzione della classe target."
   ]
  },
  {
   "cell_type": "code",
   "execution_count": 55,
   "metadata": {},
   "outputs": [],
   "source": [
    "train_rdd, test_rdd = data_rdd.randomSplit([0.7,0.3])"
   ]
  },
  {
   "cell_type": "code",
   "execution_count": 56,
   "metadata": {},
   "outputs": [
    {
     "data": {
      "text/html": [
       "<div>\n",
       "<style scoped>\n",
       "    .dataframe tbody tr th:only-of-type {\n",
       "        vertical-align: middle;\n",
       "    }\n",
       "\n",
       "    .dataframe tbody tr th {\n",
       "        vertical-align: top;\n",
       "    }\n",
       "\n",
       "    .dataframe thead th {\n",
       "        text-align: right;\n",
       "    }\n",
       "</style>\n",
       "<table border=\"1\" class=\"dataframe\">\n",
       "  <thead>\n",
       "    <tr style=\"text-align: right;\">\n",
       "      <th></th>\n",
       "      <th>IPA</th>\n",
       "      <th>No IPA</th>\n",
       "    </tr>\n",
       "  </thead>\n",
       "  <tbody>\n",
       "    <tr>\n",
       "      <th>train</th>\n",
       "      <td>8339</td>\n",
       "      <td>42991</td>\n",
       "    </tr>\n",
       "    <tr>\n",
       "      <th>test</th>\n",
       "      <td>3601</td>\n",
       "      <td>18930</td>\n",
       "    </tr>\n",
       "  </tbody>\n",
       "</table>\n",
       "</div>"
      ],
      "text/plain": [
       "        IPA  No IPA\n",
       "train  8339   42991\n",
       "test   3601   18930"
      ]
     },
     "execution_count": 56,
     "metadata": {},
     "output_type": "execute_result"
    }
   ],
   "source": [
    "def count_labels(raw_rdd):\n",
    "    return dict(\n",
    "        raw_rdd\n",
    "            .map(lambda x: (\"IPA\" if x.label == 1 else \"No IPA\", 1))\n",
    "            .reduceByKey(lambda l, r: l + r)\n",
    "            .collect()\n",
    "    )\n",
    "\n",
    "pd.DataFrame(\n",
    "    data=[count_labels(train_rdd), count_labels(test_rdd)],\n",
    "    index=[\"train\", \"test\"]\n",
    ")"
   ]
  },
  {
   "cell_type": "code",
   "execution_count": 57,
   "metadata": {},
   "outputs": [
    {
     "data": {
      "text/plain": [
       "5.155414318263581"
      ]
     },
     "execution_count": 57,
     "metadata": {},
     "output_type": "execute_result"
    }
   ],
   "source": [
    "42991/8339"
   ]
  },
  {
   "cell_type": "code",
   "execution_count": 58,
   "metadata": {},
   "outputs": [
    {
     "data": {
      "text/plain": [
       "5.256873090808109"
      ]
     },
     "execution_count": 58,
     "metadata": {},
     "output_type": "execute_result"
    }
   ],
   "source": [
    "18930/3601"
   ]
  },
  {
   "cell_type": "markdown",
   "metadata": {},
   "source": [
    "Train e Test set sono bilanciati per quanto riguarda la classe target. Non è però bilanciato l'intero dataset tra Ipa e non Ipa"
   ]
  },
  {
   "cell_type": "markdown",
   "metadata": {},
   "source": [
    "Per la classificazione iniaziamo provando con la Logistic Regression. Normalizziamo i dati prima."
   ]
  },
  {
   "cell_type": "code",
   "execution_count": 59,
   "metadata": {},
   "outputs": [
    {
     "data": {
      "text/plain": [
       "[LabeledPoint(1.0, [18.93,1.063,5.91,59.25,8.98,60.0,70.0,1.5,20.0,0.0,0.0,0.0,1.0]),\n",
       " LabeledPoint(1.0, [22.71,1.061,5.8,54.48,8.5,60.0,70.0,1.5,20.0,0.0,1.0,0.0,0.0])]"
      ]
     },
     "execution_count": 59,
     "metadata": {},
     "output_type": "execute_result"
    }
   ],
   "source": [
    "train_rdd.take(2)"
   ]
  },
  {
   "cell_type": "code",
   "execution_count": 60,
   "metadata": {},
   "outputs": [],
   "source": [
    "from pyspark.mllib.feature import StandardScaler\n",
    "from pyspark.mllib.util import MLUtils\n",
    "from pyspark.mllib.linalg import Vectors\n",
    "\n",
    "train_labels = train_rdd.map(lambda x: x.label)\n",
    "train_features = train_rdd.map(lambda x: x.features)\n",
    "\n",
    "test_labels = test_rdd.map(lambda x: x.label)\n",
    "test_features = test_rdd.map(lambda x: x.features)\n",
    "\n",
    "# normalize using the mean and the std\n",
    "scaler = StandardScaler(withMean=True, withStd=True)\n",
    "\n",
    "std_scaler = scaler.fit(train_features)\n",
    "\n",
    "train_features_norm = std_scaler.transform(train_features)\n",
    "test_features_norm = std_scaler.transform(test_features)"
   ]
  },
  {
   "cell_type": "code",
   "execution_count": 341,
   "metadata": {},
   "outputs": [
    {
     "data": {
      "text/plain": [
       "[DenseVector([-1.7318, -0.1245, -0.1487, 1.0815, 0.3999, 0.1886, -0.3352, 0.2581, -0.2907, 0.161, -0.164, 0.6979, -0.4431, -0.3618]),\n",
       " DenseVector([-1.7317, -0.1143, -0.1587, -0.1793, 0.2495, -0.4103, -0.3352, 0.2581, -0.2907, 0.161, -0.164, 0.6979, -0.4431, -0.3618]),\n",
       " DenseVector([-1.7316, 0.0328, -0.1591, 0.184, -0.6442, -0.74, 1.6522, 0.4004, -0.2907, -0.1191, -0.164, 0.6979, -0.4431, -0.3618]),\n",
       " DenseVector([-1.7316, -0.1041, -0.1614, -0.2968, -0.1008, -0.4523, 0.3272, 0.8986, -0.2907, 0.161, -0.164, 0.6979, -0.4431, -0.3618]),\n",
       " DenseVector([-1.7315, -0.1143, -0.1537, 0.5099, 5.4745, -0.5923, 1.6522, 0.6139, -0.2907, 0.161, -0.164, 0.6979, -0.4431, -0.3618])]"
      ]
     },
     "execution_count": 341,
     "metadata": {},
     "output_type": "execute_result"
    }
   ],
   "source": [
    "train_features_norm.take(5)"
   ]
  },
  {
   "cell_type": "markdown",
   "metadata": {},
   "source": [
    "Per qualche motivo la zip non funziona"
   ]
  },
  {
   "cell_type": "code",
   "execution_count": 64,
   "metadata": {},
   "outputs": [],
   "source": [
    "labels_feat_norm_train = train_labels.zip(train_features_norm)"
   ]
  },
  {
   "cell_type": "code",
   "execution_count": 415,
   "metadata": {},
   "outputs": [
    {
     "data": {
      "text/plain": [
       "51860"
      ]
     },
     "execution_count": 415,
     "metadata": {},
     "output_type": "execute_result"
    }
   ],
   "source": [
    "train_features_norm.count()"
   ]
  },
  {
   "cell_type": "code",
   "execution_count": 214,
   "metadata": {},
   "outputs": [],
   "source": [
    "# auxiliar function\n",
    "def confusion_matrix(labels, predictions):\n",
    "    counts_rdd = predictions.zip(labels).map(lambda k: (k,1)).reduceByKey(lambda l,r: l+r)\n",
    "    counts = dict(((i,j),0) for i in [0,1] for j in [0,1])  # set to 0 all the entries\n",
    "    counts.update( dict(counts_rdd.collect()) )  # update the non-0 entries\n",
    "    confusion_matrix = [\n",
    "        [\n",
    "            counts[(pred,act)]\n",
    "            for act in [0,1]\n",
    "        ] for pred in [0,1]\n",
    "    ]\n",
    "    df_cm = pd.DataFrame(confusion_matrix, index = [\"Pred No IPA\", \"Pred IPA\"], columns = [\"Act No IPA\", \"Act IPA\"])\n",
    "    sns.heatmap(df_cm, annot=True, fmt='', annot_kws={\"size\": 14})"
   ]
  },
  {
   "cell_type": "code",
   "execution_count": 67,
   "metadata": {},
   "outputs": [],
   "source": [
    "test_labels_rdd = test_rdd.map(lambda lp: lp.label)"
   ]
  },
  {
   "cell_type": "code",
   "execution_count": 68,
   "metadata": {},
   "outputs": [],
   "source": [
    "from pyspark.mllib.evaluation import MulticlassMetrics"
   ]
  },
  {
   "cell_type": "code",
   "execution_count": 69,
   "metadata": {},
   "outputs": [],
   "source": [
    "# train \n",
    "model = LogisticRegressionWithLBFGS.train(train_rdd)\n",
    "\n",
    "# predict\n",
    "predictionAndLabels = test_rdd.map(lambda lp: (float(model.predict(lp.features)), lp.label))"
   ]
  },
  {
   "cell_type": "code",
   "execution_count": 70,
   "metadata": {},
   "outputs": [
    {
     "name": "stdout",
     "output_type": "stream",
     "text": [
      "Accuracy = 0.8369357773733966\n",
      "Recall of IPA = 0.12052207720077757\n",
      "Precision of IPA = 0.461211477151966\n",
      "Recall of noIPA = 0.973217115689382\n",
      "Precision of noIPA = 0.8533117183881427\n"
     ]
    },
    {
     "data": {
      "image/png": "[encoded data removed]",
      "text/plain": [
       "<Figure size 432x288 with 2 Axes>"
      ]
     },
     "metadata": {
      "needs_background": "light"
     },
     "output_type": "display_data"
    }
   ],
   "source": [
    "# metrics\n",
    "metrics = MulticlassMetrics(predictionAndLabels)\n",
    "\n",
    "accuracy = metrics.recall()\n",
    "    \n",
    "recall_ipa = metrics.recall(1.0)\n",
    "precision_ipa = metrics.precision(1.0)\n",
    "\n",
    "recall_noipa = metrics.recall(0.0)\n",
    "precision_noipa = metrics.precision(0.0)\n",
    "\n",
    "\n",
    "print(\"Accuracy = %s\" % accuracy)\n",
    "print(\"Recall of IPA = %s\" % recall_ipa)\n",
    "print(\"Precision of IPA = %s\" % precision_ipa)\n",
    "print(\"Recall of noIPA = %s\" % recall_noipa)\n",
    "print(\"Precision of noIPA = %s\" % precision_noipa)\n",
    "\n",
    "cm = metrics.confusionMatrix()\n",
    "\n",
    "ax = sns.heatmap(cm.values.reshape(2,2), linewidth=0.5, annot=True, fmt='', annot_kws={\"size\": 14}, cmap='PiYG', xticklabels=[\"Act No IPA\", \"Act IPA\"], yticklabels=[\"Pred No IPA\", \"Pred IPA\"])\n",
    "plt.show()"
   ]
  },
  {
   "cell_type": "markdown",
   "metadata": {},
   "source": [
    "Proviamo ora con il Decision Tree se otteniamo migliori risultati"
   ]
  },
  {
   "cell_type": "code",
   "execution_count": 72,
   "metadata": {},
   "outputs": [],
   "source": [
    "from pyspark.mllib.tree import DecisionTree, DecisionTreeModel"
   ]
  },
  {
   "cell_type": "code",
   "execution_count": 73,
   "metadata": {},
   "outputs": [],
   "source": [
    "# Train a DecisionTree model.\n",
    "model = DecisionTree.trainClassifier(train_rdd, numClasses=2, categoricalFeaturesInfo={}, impurity='gini', maxDepth=5, maxBins=32)\n",
    "\n",
    "# Evaluate model on test instances and compute test error\n",
    "test_predictions_rdd = model.predict(test_rdd.map(lambda x: x.features))\n",
    "\n",
    "# predict\n",
    "#predictionAndLabels = test_rdd.map(lambda lp: (model.predict(lp.features), lp.label))\n",
    "#test_predictions_rdd = model.predict(test_rdd.map(lambda x: x.features))\n",
    "\n",
    "#predictionAndLabels = test_predictions_rdd.zip(test_labels_rdd)"
   ]
  },
  {
   "cell_type": "code",
   "execution_count": 76,
   "metadata": {},
   "outputs": [
    {
     "name": "stdout",
     "output_type": "stream",
     "text": [
      "Accuracy: 0.8829612533842262\n"
     ]
    }
   ],
   "source": [
    "# compute accuracy\n",
    "from sklearn.metrics import accuracy_score\n",
    "print(\"Accuracy:\", accuracy_score(test_labels_rdd.collect(),test_predictions_rdd.collect()))"
   ]
  },
  {
   "cell_type": "code",
   "execution_count": 77,
   "metadata": {},
   "outputs": [],
   "source": [
    "from sklearn.metrics import confusion_matrix\n",
    "# plot confusion matrix\n",
    "cm = confusion_matrix(test_labels_rdd.collect(),test_predictions_rdd.collect())"
   ]
  },
  {
   "cell_type": "code",
   "execution_count": 81,
   "metadata": {},
   "outputs": [
    {
     "data": {
      "image/png": "[encoded data removed]",
      "text/plain": [
       "<Figure size 432x288 with 2 Axes>"
      ]
     },
     "metadata": {
      "needs_background": "light"
     },
     "output_type": "display_data"
    }
   ],
   "source": [
    "ax = sns.heatmap(cm.transpose(), linewidth=0.5, annot=True, fmt='', annot_kws={\"size\": 14}, cmap='PiYG', xticklabels=[\"Act No IPA\", \"Act IPA\"], yticklabels=[\"Pred No IPA\", \"Pred IPA\"])\n",
    "plt.show()"
   ]
  },
  {
   "cell_type": "code",
   "execution_count": 82,
   "metadata": {},
   "outputs": [
    {
     "name": "stdout",
     "output_type": "stream",
     "text": [
      "              precision    recall  f1-score   support\n",
      "\n",
      "      No IPA       0.92      0.95      0.93     18930\n",
      "         IPA       0.66      0.55      0.60      3601\n",
      "\n",
      "    accuracy                           0.88     22531\n",
      "   macro avg       0.79      0.75      0.77     22531\n",
      "weighted avg       0.88      0.88      0.88     22531\n",
      "\n"
     ]
    }
   ],
   "source": [
    "from sklearn.metrics import classification_report\n",
    "\n",
    "print(classification_report(test_labels_rdd.collect(),test_predictions_rdd.collect(), target_names=['No IPA', 'IPA']))"
   ]
  },
  {
   "cell_type": "code",
   "execution_count": 83,
   "metadata": {},
   "outputs": [
    {
     "name": "stdout",
     "output_type": "stream",
     "text": [
      "DecisionTreeModel classifier of depth 5 with 15 nodes\n",
      "  If (feature 3 <= 48.315)\n",
      "   Predict: 0.0\n",
      "  Else (feature 3 > 48.315)\n",
      "   If (feature 4 <= 13.735)\n",
      "    If (feature 2 <= 7.865)\n",
      "     If (feature 1 <= 1.0554999999999999)\n",
      "      Predict: 0.0\n",
      "     Else (feature 1 > 1.0554999999999999)\n",
      "      If (feature 2 <= 7.505)\n",
      "       Predict: 1.0\n",
      "      Else (feature 2 > 7.505)\n",
      "       Predict: 0.0\n",
      "    Else (feature 2 > 7.865)\n",
      "     If (feature 2 <= 8.975000000000001)\n",
      "      If (feature 6 <= 80.5)\n",
      "       Predict: 0.0\n",
      "      Else (feature 6 > 80.5)\n",
      "       Predict: 1.0\n",
      "     Else (feature 2 > 8.975000000000001)\n",
      "      Predict: 0.0\n",
      "   Else (feature 4 > 13.735)\n",
      "    Predict: 0.0\n",
      "\n"
     ]
    }
   ],
   "source": [
    "print(model.toDebugString())"
   ]
  },
  {
   "cell_type": "markdown",
   "metadata": {},
   "source": [
    "Il Decision Tree sembra funzionare meglio con la classe IPA: le features che sono state più usate per la costruzione dell'albero risultano essere:\n",
    "- OG\n",
    "- Size(L)\n",
    "- IBU"
   ]
  },
  {
   "cell_type": "markdown",
   "metadata": {},
   "source": [
    "Addesso proviamo Gradient boost classifier e Random Forest"
   ]
  },
  {
   "cell_type": "code",
   "execution_count": 84,
   "metadata": {},
   "outputs": [],
   "source": [
    "from pyspark.mllib.tree import GradientBoostedTrees"
   ]
  },
  {
   "cell_type": "code",
   "execution_count": 85,
   "metadata": {},
   "outputs": [
    {
     "name": "stdout",
     "output_type": "stream",
     "text": [
      "Accuracy: 0.8832275531489947\n"
     ]
    },
    {
     "data": {
      "image/png": "[encoded data removed]",
      "text/plain": [
       "<Figure size 432x288 with 2 Axes>"
      ]
     },
     "metadata": {
      "needs_background": "light"
     },
     "output_type": "display_data"
    },
    {
     "name": "stdout",
     "output_type": "stream",
     "text": [
      "              precision    recall  f1-score   support\n",
      "\n",
      "      No IPA       0.92      0.94      0.93     18930\n",
      "         IPA       0.65      0.58      0.61      3601\n",
      "\n",
      "    accuracy                           0.88     22531\n",
      "   macro avg       0.79      0.76      0.77     22531\n",
      "weighted avg       0.88      0.88      0.88     22531\n",
      "\n"
     ]
    }
   ],
   "source": [
    "# train \n",
    "model = GradientBoostedTrees.trainClassifier(train_rdd, categoricalFeaturesInfo={}, numIterations=10)\n",
    "\n",
    "# predict\n",
    "test_predictions_rdd = model.predict(test_rdd.map(lambda lp: lp.features))\n",
    "\n",
    "# compute metrics\n",
    "print(\"Accuracy:\", accuracy_score(test_labels_rdd.collect(),test_predictions_rdd.collect()))\n",
    "\n",
    "cm = confusion_matrix(test_labels_rdd.collect(),test_predictions_rdd.collect())\n",
    "\n",
    "ax = sns.heatmap(cm.transpose(), linewidth=0.5, annot=True, fmt='', annot_kws={\"size\": 14}, cmap='PiYG', xticklabels=[\"Act No IPA\", \"Act IPA\"], yticklabels=[\"Pred No IPA\", \"Pred IPA\"])\n",
    "plt.show()\n",
    "\n",
    "print(classification_report(test_labels_rdd.collect(),test_predictions_rdd.collect(), target_names=['No IPA', 'IPA']))"
   ]
  },
  {
   "cell_type": "markdown",
   "metadata": {},
   "source": [
    "Random forest"
   ]
  },
  {
   "cell_type": "code",
   "execution_count": 87,
   "metadata": {},
   "outputs": [
    {
     "name": "stdout",
     "output_type": "stream",
     "text": [
      "Accuracy: 0.8851360347965026\n"
     ]
    },
    {
     "data": {
      "image/png": "[encoded data removed]",
      "text/plain": [
       "<Figure size 432x288 with 2 Axes>"
      ]
     },
     "metadata": {
      "needs_background": "light"
     },
     "output_type": "display_data"
    },
    {
     "name": "stdout",
     "output_type": "stream",
     "text": [
      "              precision    recall  f1-score   support\n",
      "\n",
      "      No IPA       0.92      0.94      0.93     18930\n",
      "         IPA       0.66      0.59      0.62      3601\n",
      "\n",
      "    accuracy                           0.89     22531\n",
      "   macro avg       0.79      0.76      0.78     22531\n",
      "weighted avg       0.88      0.89      0.88     22531\n",
      "\n"
     ]
    }
   ],
   "source": [
    "from pyspark.mllib.tree import RandomForest, RandomForestModel \n",
    "from pyspark.mllib.util import MLUtils\n",
    "\n",
    "model = RandomForest.trainClassifier(train_rdd, \n",
    "                                     numClasses=2, \n",
    "                                     categoricalFeaturesInfo={},\n",
    "                                     numTrees=16, \n",
    "                                     featureSubsetStrategy=\"auto\", \n",
    "                                     impurity='gini', \n",
    "                                     maxDepth=9, \n",
    "                                     maxBins=32)\n",
    "\n",
    "# Evaluate model on test instances and compute test error\n",
    "test_predictions_rdd = model.predict(test_rdd.map(lambda x: x.features))\n",
    "\n",
    "# compute metrics\n",
    "print(\"Accuracy:\", accuracy_score(test_labels_rdd.collect(),test_predictions_rdd.collect()))\n",
    "\n",
    "cm = confusion_matrix(test_labels_rdd.collect(),test_predictions_rdd.collect())\n",
    "\n",
    "ax = sns.heatmap(cm.transpose(), linewidth=0.5, annot=True, fmt='', annot_kws={\"size\": 14}, cmap='PiYG', xticklabels=[\"Act No IPA\", \"Act IPA\"], yticklabels=[\"Pred No IPA\", \"Pred IPA\"])\n",
    "plt.show()\n",
    "\n",
    "print(classification_report(test_labels_rdd.collect(),test_predictions_rdd.collect(), target_names=['No IPA', 'IPA']))"
   ]
  },
  {
   "cell_type": "markdown",
   "metadata": {},
   "source": [
    "Proviamo ora a trainare l'algoritmo su una dataset più bilanciato."
   ]
  },
  {
   "cell_type": "code",
   "execution_count": 88,
   "metadata": {},
   "outputs": [],
   "source": [
    "ipa_rdd = train_rdd.filter(lambda x: x.label == 1)"
   ]
  },
  {
   "cell_type": "code",
   "execution_count": 89,
   "metadata": {},
   "outputs": [
    {
     "data": {
      "text/plain": [
       "8339"
      ]
     },
     "execution_count": 89,
     "metadata": {},
     "output_type": "execute_result"
    }
   ],
   "source": [
    "ipa_rdd.count()"
   ]
  },
  {
   "cell_type": "code",
   "execution_count": 90,
   "metadata": {},
   "outputs": [],
   "source": [
    "noIpa_rdd = train_rdd.filter(lambda x: x.label == 0)"
   ]
  },
  {
   "cell_type": "code",
   "execution_count": 91,
   "metadata": {},
   "outputs": [
    {
     "data": {
      "text/plain": [
       "42991"
      ]
     },
     "execution_count": 91,
     "metadata": {},
     "output_type": "execute_result"
    }
   ],
   "source": [
    "noIpa_rdd.count()"
   ]
  },
  {
   "cell_type": "code",
   "execution_count": 92,
   "metadata": {},
   "outputs": [],
   "source": [
    "noIpa_rdd = noIpa_rdd.sample(withReplacement=False, fraction=0.2)"
   ]
  },
  {
   "cell_type": "code",
   "execution_count": 93,
   "metadata": {},
   "outputs": [
    {
     "data": {
      "text/plain": [
       "8620"
      ]
     },
     "execution_count": 93,
     "metadata": {},
     "output_type": "execute_result"
    }
   ],
   "source": [
    "noIpa_rdd.count()"
   ]
  },
  {
   "cell_type": "code",
   "execution_count": 94,
   "metadata": {},
   "outputs": [],
   "source": [
    "trainb_rdd = ipa_rdd.union(noIpa_rdd)"
   ]
  },
  {
   "cell_type": "code",
   "execution_count": 95,
   "metadata": {},
   "outputs": [
    {
     "data": {
      "text/html": [
       "<div>\n",
       "<style scoped>\n",
       "    .dataframe tbody tr th:only-of-type {\n",
       "        vertical-align: middle;\n",
       "    }\n",
       "\n",
       "    .dataframe tbody tr th {\n",
       "        vertical-align: top;\n",
       "    }\n",
       "\n",
       "    .dataframe thead th {\n",
       "        text-align: right;\n",
       "    }\n",
       "</style>\n",
       "<table border=\"1\" class=\"dataframe\">\n",
       "  <thead>\n",
       "    <tr style=\"text-align: right;\">\n",
       "      <th></th>\n",
       "      <th>No IPA</th>\n",
       "      <th>IPA</th>\n",
       "    </tr>\n",
       "  </thead>\n",
       "  <tbody>\n",
       "    <tr>\n",
       "      <th>train_bil</th>\n",
       "      <td>8620</td>\n",
       "      <td>8339</td>\n",
       "    </tr>\n",
       "    <tr>\n",
       "      <th>test</th>\n",
       "      <td>18930</td>\n",
       "      <td>3601</td>\n",
       "    </tr>\n",
       "  </tbody>\n",
       "</table>\n",
       "</div>"
      ],
      "text/plain": [
       "           No IPA   IPA\n",
       "train_bil    8620  8339\n",
       "test        18930  3601"
      ]
     },
     "execution_count": 95,
     "metadata": {},
     "output_type": "execute_result"
    }
   ],
   "source": [
    "pd.DataFrame(\n",
    "    data=[count_labels(trainb_rdd), count_labels(test_rdd)],\n",
    "    index=[\"train_bil\", \"test\"]\n",
    ")"
   ]
  },
  {
   "cell_type": "code",
   "execution_count": 96,
   "metadata": {},
   "outputs": [
    {
     "name": "stdout",
     "output_type": "stream",
     "text": [
      "Accuracy: 0.828236651724291\n"
     ]
    },
    {
     "data": {
      "image/png": "[encoded data removed]",
      "text/plain": [
       "<Figure size 432x288 with 2 Axes>"
      ]
     },
     "metadata": {
      "needs_background": "light"
     },
     "output_type": "display_data"
    },
    {
     "name": "stdout",
     "output_type": "stream",
     "text": [
      "              precision    recall  f1-score   support\n",
      "\n",
      "      No IPA       0.97      0.82      0.89     18930\n",
      "         IPA       0.48      0.85      0.61      3601\n",
      "\n",
      "    accuracy                           0.83     22531\n",
      "   macro avg       0.72      0.84      0.75     22531\n",
      "weighted avg       0.89      0.83      0.85     22531\n",
      "\n"
     ]
    }
   ],
   "source": [
    "model = RandomForest.trainClassifier(trainb_rdd, \n",
    "                                     numClasses=2, \n",
    "                                     categoricalFeaturesInfo={},\n",
    "                                     numTrees=16, \n",
    "                                     featureSubsetStrategy=\"auto\", \n",
    "                                     impurity='gini', \n",
    "                                     maxDepth=9, \n",
    "                                     maxBins=32)\n",
    "\n",
    "# Evaluate model on test instances and compute test error\n",
    "test_predictions_rdd = model.predict(test_rdd.map(lambda x: x.features))\n",
    "\n",
    "# compute metrics\n",
    "print(\"Accuracy:\", accuracy_score(test_labels_rdd.collect(),test_predictions_rdd.collect()))\n",
    "\n",
    "cm = confusion_matrix(test_labels_rdd.collect(),test_predictions_rdd.collect())\n",
    "\n",
    "ax = sns.heatmap(cm.transpose(), linewidth=0.5, annot=True, fmt='', annot_kws={\"size\": 14}, cmap='PiYG', xticklabels=[\"Act No IPA\", \"Act IPA\"], yticklabels=[\"Pred No IPA\", \"Pred IPA\"])\n",
    "plt.show()\n",
    "\n",
    "print(classification_report(test_labels_rdd.collect(),test_predictions_rdd.collect(), target_names=['No IPA', 'IPA']))"
   ]
  },
  {
   "cell_type": "code",
   "execution_count": 97,
   "metadata": {},
   "outputs": [
    {
     "name": "stdout",
     "output_type": "stream",
     "text": [
      "Accuracy: 0.8266388531356798\n"
     ]
    },
    {
     "data": {
      "image/png": "[encoded data removed]",
      "text/plain": [
       "<Figure size 432x288 with 2 Axes>"
      ]
     },
     "metadata": {
      "needs_background": "light"
     },
     "output_type": "display_data"
    },
    {
     "name": "stdout",
     "output_type": "stream",
     "text": [
      "              precision    recall  f1-score   support\n",
      "\n",
      "      No IPA       0.96      0.83      0.89     18930\n",
      "         IPA       0.48      0.81      0.60      3601\n",
      "\n",
      "    accuracy                           0.83     22531\n",
      "   macro avg       0.72      0.82      0.74     22531\n",
      "weighted avg       0.88      0.83      0.84     22531\n",
      "\n"
     ]
    }
   ],
   "source": [
    "# train \n",
    "model = GradientBoostedTrees.trainClassifier(trainb_rdd, categoricalFeaturesInfo={}, numIterations=10)\n",
    "\n",
    "# predict\n",
    "test_predictions_rdd = model.predict(test_rdd.map(lambda lp: lp.features))\n",
    "\n",
    "# compute metrics\n",
    "print(\"Accuracy:\", accuracy_score(test_labels_rdd.collect(),test_predictions_rdd.collect()))\n",
    "\n",
    "cm = confusion_matrix(test_labels_rdd.collect(),test_predictions_rdd.collect())\n",
    "\n",
    "ax = sns.heatmap(cm.transpose(), linewidth=0.5, annot=True, fmt='', annot_kws={\"size\": 14}, cmap='PiYG', xticklabels=[\"Act No IPA\", \"Act IPA\"], yticklabels=[\"Pred No IPA\", \"Pred IPA\"])\n",
    "plt.show()\n",
    "\n",
    "print(classification_report(test_labels_rdd.collect(),test_predictions_rdd.collect(), target_names=['No IPA', 'IPA']))"
   ]
  },
  {
   "cell_type": "markdown",
   "metadata": {},
   "source": [
    "Proviamo infine un algoritmo di clustering per vedere se le due classi sono raggruppate insieme o meno."
   ]
  },
  {
   "cell_type": "code",
   "execution_count": 372,
   "metadata": {},
   "outputs": [],
   "source": [
    "from pyspark.mllib.clustering import KMeans"
   ]
  },
  {
   "cell_type": "code",
   "execution_count": 383,
   "metadata": {},
   "outputs": [],
   "source": [
    "# select the features\n",
    "rdd_feature = trainb_rdd.map(lambda t: t.features)\n",
    "\n",
    "# train\n",
    "model = KMeans.train(rdd_feature, k=2, runs=10, initializationMode=\"random\")"
   ]
  },
  {
   "cell_type": "code",
   "execution_count": 384,
   "metadata": {},
   "outputs": [],
   "source": [
    "# assign to the clusters\n",
    "cluster_data = trainb_rdd.map(lambda x: (x.label, model.predict(x.features)))"
   ]
  },
  {
   "cell_type": "code",
   "execution_count": 385,
   "metadata": {},
   "outputs": [],
   "source": [
    "tn = cluster_data.filter(lambda x: x[0] == 0 and x[1] == 0).count()\n",
    "tp = cluster_data.filter(lambda x: x[0] == 1 and x[1] == 1).count()\n",
    "fp = cluster_data.filter(lambda x: x[0] == 0 and x[1] == 1).count()\n",
    "fn = cluster_data.filter(lambda x: x[0] == 1 and x[1] == 0).count()"
   ]
  },
  {
   "cell_type": "code",
   "execution_count": 386,
   "metadata": {},
   "outputs": [
    {
     "name": "stdout",
     "output_type": "stream",
     "text": [
      "TN: 4350, TP: 4457, FP: 4251, FN: 3912\n",
      "Accuracy: 0.5189746611667648\n",
      "Precision: 0.5118282039503904\n",
      "Recall: 0.5325606404588362\n"
     ]
    }
   ],
   "source": [
    "print(\"TN: {}, TP: {}, FP: {}, FN: {}\".format(tn, tp, fp, fn))\n",
    "print(\"Accuracy: {}\".format((tp + tn)/(tp + tn + fp + fn)))\n",
    "print(\"Precision: {}\".format(tp/(tp + fp)))\n",
    "print(\"Recall: {}\".format(tp/(tp + fn)))"
   ]
  },
  {
   "cell_type": "code",
   "execution_count": null,
   "metadata": {},
   "outputs": [],
   "source": []
  }
 ],
 "metadata": {
  "kernelspec": {
   "display_name": "Python 3",
   "language": "python",
   "name": "python3"
  },
  "language_info": {
   "codemirror_mode": {
    "name": "ipython",
    "version": 3
   },
   "file_extension": ".py",
   "mimetype": "text/x-python",
   "name": "python",
   "nbconvert_exporter": "python",
   "pygments_lexer": "ipython3",
   "version": "3.7.7"
  }
 },
 "nbformat": 4,
 "nbformat_minor": 4
}
